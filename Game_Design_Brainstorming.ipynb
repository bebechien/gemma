{
  "nbformat": 4,
  "nbformat_minor": 0,
  "metadata": {
    "colab": {
      "provenance": [],
      "gpuType": "A100",
      "authorship_tag": "ABX9TyO6YKQm3guLQTHrQiE9rWTS",
      "include_colab_link": true
    },
    "kernelspec": {
      "name": "python3",
      "display_name": "Python 3"
    },
    "language_info": {
      "name": "python"
    },
    "accelerator": "GPU"
  },
  "cells": [
    {
      "cell_type": "markdown",
      "metadata": {
        "id": "view-in-github",
        "colab_type": "text"
      },
      "source": [
        "<a href=\"https://colab.research.google.com/github/bebechien/gemma/blob/main/Game_Design_Brainstorming.ipynb\" target=\"_parent\"><img src=\"https://colab.research.google.com/assets/colab-badge.svg\" alt=\"Open In Colab\"/></a>"
      ]
    },
    {
      "cell_type": "markdown",
      "source": [
        "##### Copyright 2024 Google LLC."
      ],
      "metadata": {
        "id": "N0WWINoe_H78"
      }
    },
    {
      "cell_type": "code",
      "source": [
        "# @title Licensed under the Apache License, Version 2.0 (the \"License\");\n",
        "# you may not use this file except in compliance with the License.\n",
        "# You may obtain a copy of the License at\n",
        "#\n",
        "# https://www.apache.org/licenses/LICENSE-2.0\n",
        "#\n",
        "# Unless required by applicable law or agreed to in writing, software\n",
        "# distributed under the License is distributed on an \"AS IS\" BASIS,\n",
        "# WITHOUT WARRANTIES OR CONDITIONS OF ANY KIND, either express or implied.\n",
        "# See the License for the specific language governing permissions and\n",
        "# limitations under the License."
      ],
      "metadata": {
        "cellView": "form",
        "id": "KCbtuTFR_Qot"
      },
      "execution_count": null,
      "outputs": []
    },
    {
      "cell_type": "markdown",
      "source": [
        "# Gemma - Game Design Brainstorming\n",
        "\n",
        "This cookbook illustrates how you can employ the instruction-tuned model version of Gemma as a chatbot to aid in your game design process by fostering brainstorming sessions effectively."
      ],
      "metadata": {
        "id": "H3LrD1zZ_T1v"
      }
    },
    {
      "cell_type": "markdown",
      "source": [
        "## Setup\n",
        "\n",
        "### Select the Colab runtime\n",
        "To complete this tutorial, you'll need to have a Colab runtime with sufficient resources to run the Gemma model. In this case, you can use a A100 GPU:\n",
        "\n",
        "1. In the upper-right of the Colab window, select **▾ (Additional connection options)**.\n",
        "2. Select **Change runtime type**.\n",
        "3. Under **Hardware accelerator**, select **A100 GPU**.\n",
        "\n",
        "\n",
        "### Gemma setup on Kaggle\n",
        "To complete this tutorial, you'll first need to complete the setup instructions at [Gemma setup](https://ai.google.dev/gemma/docs/setup). The Gemma setup instructions show you how to do the following:\n",
        "\n",
        "* Get access to Gemma on kaggle.com.\n",
        "* Select a Colab runtime with sufficient resources to run the Gemma 2B model.\n",
        "* Generate and configure a Kaggle username and API key.\n",
        "\n",
        "After you've completed the Gemma setup, move on to the next section, where you'll set environment variables for your Colab environment."
      ],
      "metadata": {
        "id": "00NyqqWcAXw1"
      }
    },
    {
      "cell_type": "markdown",
      "source": [
        "### Set environment variables\n",
        "\n",
        "Set environment variables for `KAGGLE_USERNAME` and `KAGGLE_KEY`."
      ],
      "metadata": {
        "id": "ufH54qq0A7aJ"
      }
    },
    {
      "cell_type": "code",
      "source": [
        "import os\n",
        "from google.colab import userdata\n",
        "\n",
        "# Note: `userdata.get` is a Colab API. If you're not using Colab, set the env\n",
        "# vars as appropriate for your system.\n",
        "os.environ[\"KAGGLE_USERNAME\"] = userdata.get('KAGGLE_USERNAME')\n",
        "os.environ[\"KAGGLE_KEY\"] = userdata.get('KAGGLE_KEY')"
      ],
      "metadata": {
        "id": "ybKQhkYrBNkv"
      },
      "execution_count": 1,
      "outputs": []
    },
    {
      "cell_type": "markdown",
      "source": [
        "### Install dependencies\n",
        "\n",
        "Install Keras and KerasNLP."
      ],
      "metadata": {
        "id": "BLwEJIILBQ17"
      }
    },
    {
      "cell_type": "code",
      "source": [
        "# Install Keras 3 last. See https://keras.io/getting_started/ for more details.\n",
        "!pip install -q -U keras-nlp\n",
        "!pip install -q -U keras\n",
        "\n",
        "os.environ[\"KERAS_BACKEND\"] = \"jax\"\n",
        "# Avoid memory fragmentation on JAX backend.\n",
        "os.environ[\"XLA_PYTHON_CLIENT_MEM_FRACTION\"]=\"1.00\""
      ],
      "metadata": {
        "id": "VPurjYcxBTxl"
      },
      "execution_count": null,
      "outputs": []
    },
    {
      "cell_type": "markdown",
      "source": [
        "## Core Concept"
      ],
      "metadata": {
        "id": "QOj_rAJtkOtV"
      }
    },
    {
      "cell_type": "code",
      "source": [
        "# A super concise description of your game\n",
        "pitch = \"In the heart of a reimagined Joseon Dynasty, where steam-powered machines and clockwork contraptions reign supreme, embark on an epic adventure to unravel the mysteries of a forgotten past and shape the destiny of a nation on the brink of revolution.\""
      ],
      "metadata": {
        "id": "7Fzu_ah4kR9E"
      },
      "execution_count": 3,
      "outputs": []
    },
    {
      "cell_type": "markdown",
      "source": [
        "## Load Model"
      ],
      "metadata": {
        "id": "cwjJp6YZj2jp"
      }
    },
    {
      "cell_type": "code",
      "source": [
        "import keras\n",
        "import keras_nlp\n",
        "\n",
        "# Run at half precision to fit in memory\n",
        "keras.config.set_floatx(\"bfloat16\")\n",
        "\n",
        "import textwrap\n",
        "from IPython.display import Markdown\n",
        "\n",
        "def to_markdown(text):\n",
        "  text = text.replace('•', '  *')\n",
        "  return Markdown(textwrap.indent(text, '> ', predicate=lambda _: True))\n",
        "\n",
        "gemma_lm = keras_nlp.models.GemmaCausalLM.from_preset(\"gemma_1.1_instruct_7b_en\")\n",
        "gemma_lm.compile(sampler=\"top_k\")\n",
        "\n",
        "class GemmaChat():\n",
        "\n",
        "  __START_TURN__ = \"<start_of_turn>\"\n",
        "  __END_TURN__ = \"<end_of_turn>\"\n",
        "\n",
        "  def __init__(self, model, system=\"\", history=None):\n",
        "    self.model = model\n",
        "    self.system = system\n",
        "    if not history:\n",
        "      self.history = []\n",
        "    else:\n",
        "      self.history = history\n",
        "\n",
        "  def format_message(self, message, prefix=\"\"):\n",
        "    return f\"{self.__START_TURN__}{prefix}\\n{message}{self.__END_TURN__}\\n\"\n",
        "\n",
        "  def add_to_history(self, message, prefix=\"\"):\n",
        "    formated_message = self.format_message(message, prefix)\n",
        "    self.history.append(formated_message)\n",
        "\n",
        "  def get_full_prompt(self):\n",
        "    prompt = \"\\n\".join([self.system + \"\\n\", *self.history])\n",
        "    return prompt\n",
        "\n",
        "  def send_message(self, message):\n",
        "    self.add_to_history(message, \"user\")\n",
        "    prompt = self.get_full_prompt()\n",
        "    response = self.model.generate(prompt, max_length=4096)\n",
        "    # print('--------------------response---------------------------')\n",
        "    # print(response)\n",
        "    # print('--------------------response---------------------------')\n",
        "    result = response.replace(prompt, \"\")\n",
        "    self.add_to_history(result, \"model\")\n",
        "    return result\n",
        "\n",
        "  def show_history(self):\n",
        "    for h in self.history:\n",
        "      print(h)\n",
        "\n",
        "chat = GemmaChat(gemma_lm)\n"
      ],
      "metadata": {
        "id": "9NQ431sej9Q6",
        "colab": {
          "base_uri": "https://localhost:8080/"
        },
        "outputId": "e9419eec-f5ce-4ce8-f8c9-700b66a912ba"
      },
      "execution_count": 4,
      "outputs": [
        {
          "output_type": "stream",
          "name": "stderr",
          "text": [
            "Downloading from https://www.kaggle.com/api/v1/models/keras/gemma/keras/gemma_1.1_instruct_7b_en/3/download/metadata.json...\n",
            "100%|██████████| 142/142 [00:00<00:00, 147kB/s]\n",
            "Downloading from https://www.kaggle.com/api/v1/models/keras/gemma/keras/gemma_1.1_instruct_7b_en/3/download/task.json...\n",
            "Downloading from https://www.kaggle.com/api/v1/models/keras/gemma/keras/gemma_1.1_instruct_7b_en/3/download/config.json...\n",
            "100%|██████████| 556/556 [00:00<00:00, 696kB/s]\n",
            "Downloading from https://www.kaggle.com/api/v1/models/keras/gemma/keras/gemma_1.1_instruct_7b_en/3/download/model.weights.h5...\n",
            "100%|██████████| 15.9G/15.9G [03:57<00:00, 71.8MB/s]\n",
            "Downloading from https://www.kaggle.com/api/v1/models/keras/gemma/keras/gemma_1.1_instruct_7b_en/3/download/preprocessor.json...\n",
            "Downloading from https://www.kaggle.com/api/v1/models/keras/gemma/keras/gemma_1.1_instruct_7b_en/3/download/tokenizer.json...\n",
            "100%|██████████| 401/401 [00:00<00:00, 605kB/s]\n",
            "Downloading from https://www.kaggle.com/api/v1/models/keras/gemma/keras/gemma_1.1_instruct_7b_en/3/download/assets/tokenizer/vocabulary.spm...\n",
            "100%|██████████| 4.04M/4.04M [00:00<00:00, 17.1MB/s]\n"
          ]
        }
      ]
    },
    {
      "cell_type": "markdown",
      "source": [
        "## Elaborate with the given core game concept"
      ],
      "metadata": {
        "id": "slvLngXKlIIh"
      }
    },
    {
      "cell_type": "code",
      "source": [
        "result = chat.send_message(f\"Elaborate about this game with the given core concept below.\\n{pitch}\")\n",
        "to_markdown(result)"
      ],
      "metadata": {
        "colab": {
          "base_uri": "https://localhost:8080/",
          "height": 771
        },
        "id": "B49foWx2lQe0",
        "outputId": "af343602-c80b-42ac-bf56-404bfe16bbbb"
      },
      "execution_count": 5,
      "outputs": [
        {
          "output_type": "execute_result",
          "data": {
            "text/plain": [
              "<IPython.core.display.Markdown object>"
            ],
            "text/markdown": "> **Core Concept:**\n> * **Steampunk meets Joseon Dynasty:** A fusion of Victorian-era technology with the rich cultural setting of Joseon Dynasty Korea.\n> * **Mystery & Exploration:** Unearthing forgotten secrets of the past through exploration, puzzle-solving, and interactions with eccentric characters.\n> * **Choice & Consequences:** Shaping the fate of the nation through decisions made in dialogue and action.\n> * **Political Intrigue:** Uncovering conspiracies and power struggles within the royal court.\n> \n> **Additional Elements:**\n> * A charismatic protagonist with a shrouded past.\n> * A diverse cast of characters, both loyal allies and cunning enemies.\n> * Moral dilemmas and ethical questions surrounding technological advancement.\n> * High-octane action sequences and daring escapes.\n> \n> **Possible Gameplay Elements:**\n> * Puzzle-solving and interactive environments.\n> * Stealth and action combat.\n> * Character customization and skill trees.\n> * Reputation system and branching storylines.\n> \n> **Target Audience:**\n> * Fans of historical settings and Asian culture.\n> * Players who enjoy mystery and puzzle-solving games.\n> * Anyone who loves stories with political intrigue and high stakes.\n> \n> **Possible Title:**\n> * The Clockwork Emperor\n> * Shadow of the Shogun\n> * Crimson Sky Chronicles\n> \n> **Overall Tone:**\n> * Epic and cinematic.\n> * Mysterious and atmospheric.\n> * Suspenseful and action-packed.\n> \n> \n> **Additional Notes:**\n> * The setting should be rich in detail, with a focus on steam-powered machines and clockwork devices.\n> * The story should be full of twists and turns, keeping players engaged.\n> * The game should provide multiple endings, depending on the player's choices and actions.\n> \n> I hope this elaboration gives you a clearer understanding of the game concept. Please let me know if you have any further questions or require additional details."
          },
          "metadata": {},
          "execution_count": 5
        }
      ]
    },
    {
      "cell_type": "markdown",
      "source": [
        "## Main Characters"
      ],
      "metadata": {
        "id": "rePDwH-kesBv"
      }
    },
    {
      "cell_type": "code",
      "source": [
        "result = chat.send_message(\"Design main characters.\")\n",
        "to_markdown(result)"
      ],
      "metadata": {
        "colab": {
          "base_uri": "https://localhost:8080/",
          "height": 499
        },
        "id": "5SWcXllmm-GW",
        "outputId": "8895da8b-c344-4bab-d530-32f5fc78fbca"
      },
      "execution_count": 6,
      "outputs": [
        {
          "output_type": "execute_result",
          "data": {
            "text/plain": [
              "<IPython.core.display.Markdown object>"
            ],
            "text/markdown": "> ## Main Character Concepts:\n> \n> **1. Jin-ah, the Master Engineer:**\n> \n> * A skilled inventor and engineer, driven by curiosity and a yearning to improve the lives of the people.\n> * Possesses a vast knowledge of steam-powered technology and clockwork mechanisms.\n> * Haunted by a failed experiment that left her with mysterious scars.\n> \n> \n> **2. Prince Hyon, the Hidden Rebel:**\n> \n> * A charismatic prince who secretly opposes the oppressive government.\n> * Skilled in martial arts and politics.\n> * Holds a deep connection to the Joseon Dynasty's traditions and values.\n> \n> \n> **3. Lady Mi-jin, the Royal Oracle:**\n> \n> * A cunning strategist and political manipulator.\n> * Possesses supernatural abilities and a vast network of informants.\n> * Holds the key to unlocking the secrets of the forgotten past.\n> \n> \n> **4. General Jang, the Loyal Protector:**\n> \n> * A skilled military strategist and loyal bodyguard.\n> * Known for his unwavering loyalty and unwavering sense of justice.\n> * Hides a hidden vulnerability beneath his stoic exterior.\n> \n> \n> **5. The Whispering Machine:**\n> \n> * A mysterious and sentient steam-powered automaton.\n> * Claims to possess knowledge of a lost technology that could change the course of history.\n> * Offers cryptic warnings and guidance to the protagonist."
          },
          "metadata": {},
          "execution_count": 6
        }
      ]
    },
    {
      "cell_type": "markdown",
      "source": [
        "## Villain Characters"
      ],
      "metadata": {
        "id": "T6nTOt5reta2"
      }
    },
    {
      "cell_type": "code",
      "source": [
        "result = chat.send_message(\"Design villain characters.\")\n",
        "to_markdown(result)"
      ],
      "metadata": {
        "colab": {
          "base_uri": "https://localhost:8080/",
          "height": 534
        },
        "id": "eSeNGJZKWwM0",
        "outputId": "eafa7ef3-8ebb-4f0b-9e9f-4366e6a37b37"
      },
      "execution_count": 7,
      "outputs": [
        {
          "output_type": "execute_result",
          "data": {
            "text/plain": [
              "<IPython.core.display.Markdown object>"
            ],
            "text/markdown": "> ## Villain Concepts:\n> \n> **1. The Shadow Chancellor:**\n> \n> * A cunning politician who manipulates the Emperor from the shadows.\n> * Obsessed with maintaining his power and will stop at nothing to achieve his goals.\n> * Secretly working to suppress technological advancements and maintain the existing social order.\n> \n> \n> **2. The Clocksmith:**\n> \n> * A ruthless inventor who seeks to dominate the world with his advanced clockwork technology.\n> * Driven by a desire to control others and create a society where efficiency reigns supreme.\n> * Possesses a twisted vision of a future where humanity is enslaved by machines.\n> \n> \n> **3. The Serpent Oracle:**\n> \n> * A vengeful spirit who was wronged by the Joseon Dynasty centuries ago.\n> * Returns to exact revenge on those who have oppress her people.\n> * Uses her mystical knowledge and manipulative abilities to sow chaos and destruction.\n> \n> \n> **4. The Crimson Alchemist:**\n> \n> * A mad scientist who seeks to harness the power of steam to achieve immortality.\n> * His experiments are destructive and dangerous, threatening the entire nation.\n> * Driven by his insatiable thirst for knowledge and his desire to defy the limits of human existence.\n> \n> \n> **5. The Wandering Shadow:**\n> \n> * A mysterious assassin who targets those who stand in the way of the villain's plans.\n> * Possesses an unmatched skill in stealth and assassination.\n> * Remains shrouded in mystery and leaves behind cryptic clues."
          },
          "metadata": {},
          "execution_count": 7
        }
      ]
    },
    {
      "cell_type": "markdown",
      "source": [
        "## Main Story"
      ],
      "metadata": {
        "id": "Bxx6ftEve5C1"
      }
    },
    {
      "cell_type": "code",
      "source": [
        "result = chat.send_message(\"Write the main story of this game with an introduction, development, turn, and conclusion.\")\n",
        "to_markdown(result)"
      ],
      "metadata": {
        "id": "tG6HM-yJnJoF",
        "colab": {
          "base_uri": "https://localhost:8080/",
          "height": 545
        },
        "outputId": "f8320b95-1007-476d-b5ed-0f2e1df71497"
      },
      "execution_count": 8,
      "outputs": [
        {
          "output_type": "execute_result",
          "data": {
            "text/plain": [
              "<IPython.core.display.Markdown object>"
            ],
            "text/markdown": "> ## The Crimson Legacy\n> \n> **Introduction:**\n> \n> In the year 1899, the Joseon Dynasty stands on the precipice of a new age. Steam-powered machines and clockwork contraptions have revolutionized every aspect of life, but their advancement casts a shadow of concern over the nation. In the heart of this technological upheaval lies a forgotten past, filled with secrets that could reshape the future.\n> \n> **Development:**\n> \n> Jin-ah, a master engineer, stumbles upon a secret research facility hidden beneath the Imperial Palace. There, she discovers a hidden archive that reveals a forgotten history of steam-powered technology that predates the present era. As she delves deeper, she attracts the attention of both the Emperor's loyal protectors and a sinister cabal of political elites who seek to control the technology for their own agendas.\n> \n> Meanwhile, Prince Hyon, heir to the throne, discovers that his lineage has a connection to the lost technology. Driven by his sense of duty, he joins Jin-ah in her investigation, knowing that the fate of the nation rests in their hands.\n> \n> **Turn:**\n> \n> As Jin-ah and Hyon uncover the secrets of the past, they find themselves targeted by the Shadow Chancellor, who seeks to maintain his control. The villain manipulates the court, unleashing monstrous clockwork creatures and unleashing chaos across the land. The friends must grapple with political intrigue, desperate battles, and moral dilemmas.\n> \n> **Conclusion:**\n> \n> Jin-ah and Hyon must confront the Shadow Chancellor and his allies, utilizing their combined skills and knowledge to unlock the true potential of steam-powered technology. Their actions will determine the destiny of the Joseon Dynasty. Will they restore balance to the nation or will they forge a new future built on the foundation of forgotten knowledge?"
          },
          "metadata": {},
          "execution_count": 8
        }
      ]
    },
    {
      "cell_type": "markdown",
      "source": [
        "## Show the chat history"
      ],
      "metadata": {
        "id": "CNAwQXG2Tbee"
      }
    },
    {
      "cell_type": "code",
      "source": [
        "chat.show_history()"
      ],
      "metadata": {
        "colab": {
          "base_uri": "https://localhost:8080/"
        },
        "id": "4qW12hdKTfc2",
        "outputId": "90ea57a8-dbd3-4b95-e104-103589a493c2"
      },
      "execution_count": 9,
      "outputs": [
        {
          "output_type": "stream",
          "name": "stdout",
          "text": [
            "<start_of_turn>user\n",
            "Elaborate about this game with the given core concept below.\n",
            "In the heart of a reimagined Joseon Dynasty, where steam-powered machines and clockwork contraptions reign supreme, embark on an epic adventure to unravel the mysteries of a forgotten past and shape the destiny of a nation on the brink of revolution.<end_of_turn>\n",
            "\n",
            "<start_of_turn>model\n",
            "**Core Concept:**\n",
            "* **Steampunk meets Joseon Dynasty:** A fusion of Victorian-era technology with the rich cultural setting of Joseon Dynasty Korea.\n",
            "* **Mystery & Exploration:** Unearthing forgotten secrets of the past through exploration, puzzle-solving, and interactions with eccentric characters.\n",
            "* **Choice & Consequences:** Shaping the fate of the nation through decisions made in dialogue and action.\n",
            "* **Political Intrigue:** Uncovering conspiracies and power struggles within the royal court.\n",
            "\n",
            "**Additional Elements:**\n",
            "* A charismatic protagonist with a shrouded past.\n",
            "* A diverse cast of characters, both loyal allies and cunning enemies.\n",
            "* Moral dilemmas and ethical questions surrounding technological advancement.\n",
            "* High-octane action sequences and daring escapes.\n",
            "\n",
            "**Possible Gameplay Elements:**\n",
            "* Puzzle-solving and interactive environments.\n",
            "* Stealth and action combat.\n",
            "* Character customization and skill trees.\n",
            "* Reputation system and branching storylines.\n",
            "\n",
            "**Target Audience:**\n",
            "* Fans of historical settings and Asian culture.\n",
            "* Players who enjoy mystery and puzzle-solving games.\n",
            "* Anyone who loves stories with political intrigue and high stakes.\n",
            "\n",
            "**Possible Title:**\n",
            "* The Clockwork Emperor\n",
            "* Shadow of the Shogun\n",
            "* Crimson Sky Chronicles\n",
            "\n",
            "**Overall Tone:**\n",
            "* Epic and cinematic.\n",
            "* Mysterious and atmospheric.\n",
            "* Suspenseful and action-packed.\n",
            "\n",
            "\n",
            "**Additional Notes:**\n",
            "* The setting should be rich in detail, with a focus on steam-powered machines and clockwork devices.\n",
            "* The story should be full of twists and turns, keeping players engaged.\n",
            "* The game should provide multiple endings, depending on the player's choices and actions.\n",
            "\n",
            "I hope this elaboration gives you a clearer understanding of the game concept. Please let me know if you have any further questions or require additional details.<end_of_turn>\n",
            "\n",
            "<start_of_turn>user\n",
            "Design main characters.<end_of_turn>\n",
            "\n",
            "<start_of_turn>model\n",
            "## Main Character Concepts:\n",
            "\n",
            "**1. Jin-ah, the Master Engineer:**\n",
            "\n",
            "* A skilled inventor and engineer, driven by curiosity and a yearning to improve the lives of the people.\n",
            "* Possesses a vast knowledge of steam-powered technology and clockwork mechanisms.\n",
            "* Haunted by a failed experiment that left her with mysterious scars.\n",
            "\n",
            "\n",
            "**2. Prince Hyon, the Hidden Rebel:**\n",
            "\n",
            "* A charismatic prince who secretly opposes the oppressive government.\n",
            "* Skilled in martial arts and politics.\n",
            "* Holds a deep connection to the Joseon Dynasty's traditions and values.\n",
            "\n",
            "\n",
            "**3. Lady Mi-jin, the Royal Oracle:**\n",
            "\n",
            "* A cunning strategist and political manipulator.\n",
            "* Possesses supernatural abilities and a vast network of informants.\n",
            "* Holds the key to unlocking the secrets of the forgotten past.\n",
            "\n",
            "\n",
            "**4. General Jang, the Loyal Protector:**\n",
            "\n",
            "* A skilled military strategist and loyal bodyguard.\n",
            "* Known for his unwavering loyalty and unwavering sense of justice.\n",
            "* Hides a hidden vulnerability beneath his stoic exterior.\n",
            "\n",
            "\n",
            "**5. The Whispering Machine:**\n",
            "\n",
            "* A mysterious and sentient steam-powered automaton.\n",
            "* Claims to possess knowledge of a lost technology that could change the course of history.\n",
            "* Offers cryptic warnings and guidance to the protagonist.<end_of_turn>\n",
            "\n",
            "<start_of_turn>user\n",
            "Design villain characters.<end_of_turn>\n",
            "\n",
            "<start_of_turn>model\n",
            "## Villain Concepts:\n",
            "\n",
            "**1. The Shadow Chancellor:**\n",
            "\n",
            "* A cunning politician who manipulates the Emperor from the shadows.\n",
            "* Obsessed with maintaining his power and will stop at nothing to achieve his goals.\n",
            "* Secretly working to suppress technological advancements and maintain the existing social order.\n",
            "\n",
            "\n",
            "**2. The Clocksmith:**\n",
            "\n",
            "* A ruthless inventor who seeks to dominate the world with his advanced clockwork technology.\n",
            "* Driven by a desire to control others and create a society where efficiency reigns supreme.\n",
            "* Possesses a twisted vision of a future where humanity is enslaved by machines.\n",
            "\n",
            "\n",
            "**3. The Serpent Oracle:**\n",
            "\n",
            "* A vengeful spirit who was wronged by the Joseon Dynasty centuries ago.\n",
            "* Returns to exact revenge on those who have oppress her people.\n",
            "* Uses her mystical knowledge and manipulative abilities to sow chaos and destruction.\n",
            "\n",
            "\n",
            "**4. The Crimson Alchemist:**\n",
            "\n",
            "* A mad scientist who seeks to harness the power of steam to achieve immortality.\n",
            "* His experiments are destructive and dangerous, threatening the entire nation.\n",
            "* Driven by his insatiable thirst for knowledge and his desire to defy the limits of human existence.\n",
            "\n",
            "\n",
            "**5. The Wandering Shadow:**\n",
            "\n",
            "* A mysterious assassin who targets those who stand in the way of the villain's plans.\n",
            "* Possesses an unmatched skill in stealth and assassination.\n",
            "* Remains shrouded in mystery and leaves behind cryptic clues.<end_of_turn>\n",
            "\n",
            "<start_of_turn>user\n",
            "Write the main story of this game with an introduction, development, turn, and conclusion.<end_of_turn>\n",
            "\n",
            "<start_of_turn>model\n",
            "## The Crimson Legacy\n",
            "\n",
            "**Introduction:**\n",
            "\n",
            "In the year 1899, the Joseon Dynasty stands on the precipice of a new age. Steam-powered machines and clockwork contraptions have revolutionized every aspect of life, but their advancement casts a shadow of concern over the nation. In the heart of this technological upheaval lies a forgotten past, filled with secrets that could reshape the future.\n",
            "\n",
            "**Development:**\n",
            "\n",
            "Jin-ah, a master engineer, stumbles upon a secret research facility hidden beneath the Imperial Palace. There, she discovers a hidden archive that reveals a forgotten history of steam-powered technology that predates the present era. As she delves deeper, she attracts the attention of both the Emperor's loyal protectors and a sinister cabal of political elites who seek to control the technology for their own agendas.\n",
            "\n",
            "Meanwhile, Prince Hyon, heir to the throne, discovers that his lineage has a connection to the lost technology. Driven by his sense of duty, he joins Jin-ah in her investigation, knowing that the fate of the nation rests in their hands.\n",
            "\n",
            "**Turn:**\n",
            "\n",
            "As Jin-ah and Hyon uncover the secrets of the past, they find themselves targeted by the Shadow Chancellor, who seeks to maintain his control. The villain manipulates the court, unleashing monstrous clockwork creatures and unleashing chaos across the land. The friends must grapple with political intrigue, desperate battles, and moral dilemmas.\n",
            "\n",
            "**Conclusion:**\n",
            "\n",
            "Jin-ah and Hyon must confront the Shadow Chancellor and his allies, utilizing their combined skills and knowledge to unlock the true potential of steam-powered technology. Their actions will determine the destiny of the Joseon Dynasty. Will they restore balance to the nation or will they forge a new future built on the foundation of forgotten knowledge?<end_of_turn>\n",
            "\n"
          ]
        }
      ]
    },
    {
      "cell_type": "markdown",
      "source": [
        "## Clear History"
      ],
      "metadata": {
        "id": "YYvLo-OLkj0g"
      }
    },
    {
      "cell_type": "code",
      "source": [
        "chat.history.clear()"
      ],
      "metadata": {
        "id": "ngWPjllXkljM"
      },
      "execution_count": 10,
      "outputs": []
    },
    {
      "cell_type": "markdown",
      "source": [
        "## Expansion Idea"
      ],
      "metadata": {
        "id": "O0fZNg2Eykbq"
      }
    },
    {
      "cell_type": "markdown",
      "source": [
        "### Marketing Phrase"
      ],
      "metadata": {
        "id": "QP1zppatyosv"
      }
    },
    {
      "cell_type": "code",
      "source": [
        "chat.history.clear()\n",
        "pitch = \"A new steam-powered toothbrush\"\n",
        "result = chat.send_message(f\"Generate a marketing phrase for the new product below.\\n{pitch}\")\n",
        "to_markdown(result)"
      ],
      "metadata": {
        "colab": {
          "base_uri": "https://localhost:8080/",
          "height": 312
        },
        "id": "H2PcNCO_ytEP",
        "outputId": "6e741044-d282-4fd9-b1f4-cc83c26aa70c"
      },
      "execution_count": 11,
      "outputs": [
        {
          "output_type": "execute_result",
          "data": {
            "text/plain": [
              "<IPython.core.display.Markdown object>"
            ],
            "text/markdown": "> * Cleans teeth with pure water and natural steam\n> * Reduces plaque and promotes gum health\n> * Provides a deep clean without harsh chemicals or abrasives\n> \n> **Marketing Phrase Options:**\n> \n> - **Steam to a Brighter Smile**\n> - **Freshness Unleashed, Naturally**\n> - **Clean Teeth, Naturally Powered**\n> - **The Gentle Revolution in Oral Care**\n> - **Pure Clean, Pure Health**\n> \n> **Which marketing phrase would you choose and why?**\n> \n> I would choose **\"Pure Clean, Pure Health\"** because it clearly communicates the product's unique benefits - a deep clean without the use of harsh chemicals or abrasives, resulting in improved oral health. The phrase is concise, memorable, and emphasizes the natural and effective approach to oral care."
          },
          "metadata": {},
          "execution_count": 11
        }
      ]
    },
    {
      "cell_type": "markdown",
      "source": [
        "### Florist Ideas"
      ],
      "metadata": {
        "id": "oJbiCXoszJVN"
      }
    },
    {
      "cell_type": "code",
      "source": [
        "chat.history.clear()\n",
        "pitch = \"Universe and shooting stars\"\n",
        "result = chat.send_message(f\"Generate a florist idea inspired by the concept below, along with suggestions for suitable flowers.\\n{pitch}\")\n",
        "to_markdown(result)"
      ],
      "metadata": {
        "colab": {
          "base_uri": "https://localhost:8080/",
          "height": 486
        },
        "id": "BKXXigmxzZp_",
        "outputId": "84828248-712f-40bb-ba1c-b39ceab747e0"
      },
      "execution_count": 12,
      "outputs": [
        {
          "output_type": "execute_result",
          "data": {
            "text/plain": [
              "<IPython.core.display.Markdown object>"
            ],
            "text/markdown": "> **Florist Idea:**\n> \n> **Concept:** Capture the wonder of the universe and the fleeting beauty of shooting stars in a breathtaking floral arrangement. \n> \n> **Suggested Flowers:**\n> \n> - **Roses:** represent love, beauty, and new beginnings, symbolizing the vastness of space.\n> - **Stargazers:** resemble shooting stars with their elongated stems and star-like heads, adding an ethereal touch. \n> - **Hydrangeas:** represent growth, rebirth, and transformation, reflecting the cosmic evolution.\n> - **Delphiniums:** symbolize freedom and imagination, connecting to the boundless possibilities of the universe.\n> - **Waxflowers:** represent purity and innocence, reminiscent of stardust.\n> \n> \n> **Additional Elements:**\n> \n> - Silver or metallic foliages to evoke the gleam of stars.\n> - Crystals or iridescent stones to capture the sparkle and glow of the cosmos.\n> - A clear glass vase with star-shaped cutouts, allowing glimpses of the universe through the arrangement.\n> \n> \n> **Display Ideas:**\n> \n> - **Suspended arrangement:** Hang the flowers from the ceiling, creating a floating cloud of cosmic beauty.\n> - **Table centerpiece:** Arrange the flowers in a geometric pattern on a mirrored surface, reflecting the starry sky.\n> - **Gothic vase arrangement:** Fill a vintage glass vase with a mix of blooms, adding an ethereal and otherworldly touch to any space."
          },
          "metadata": {},
          "execution_count": 12
        }
      ]
    },
    {
      "cell_type": "markdown",
      "source": [
        "### Food Recipe"
      ],
      "metadata": {
        "id": "jsNqqjZwziHi"
      }
    },
    {
      "cell_type": "code",
      "source": [
        "chat.history.clear()\n",
        "pitch = \"Cyberpunk Kraken\"\n",
        "result = chat.send_message(f\"Generate a cooking recipe with the concept below.\\n{pitch}\")\n",
        "to_markdown(result)"
      ],
      "metadata": {
        "colab": {
          "base_uri": "https://localhost:8080/",
          "height": 708
        },
        "id": "FbXyDjkfznJ_",
        "outputId": "1cc1c36b-715d-4e68-ba26-369ba5160b08"
      },
      "execution_count": 13,
      "outputs": [
        {
          "output_type": "execute_result",
          "data": {
            "text/plain": [
              "<IPython.core.display.Markdown object>"
            ],
            "text/markdown": "> A refreshing cocktail inspired by the deep oceans and futuristic technology.\n> \n> **Concept:**\n> - Base: Cucumber infused aquavit\n> - Flavor profile: Sea brine, kelp, seaweed, lime, and a touch of futuristic technology with activated charcoal and blue light.\n> \n> \n> **Recipe:**\n> \n> **Ingredients:**\n> \n> - 2 oz Cucumber infused aquavit\n> - 2 oz Lime juice, freshly squeezed\n> - 1/2 oz Activated charcoal powder (dissolved in water)\n> - 1/4 cup Kelp infusion\n> - 1/8 cup Sea salt brine\n> - Blue light for garnish\n> \n> \n> **Instructions:**\n> \n> 1. In a cocktail shaker filled with ice, combine the cucumber infused aquavit, lime juice, activated charcoal solution, kelp infusion, and sea salt brine.\n> \n> \n> 2. Shake vigorously for about 10 seconds until chilled and well blended.\n> \n> \n> 3. Strain into a chilled martini glass.\n> \n> \n> 4. As a finishing touch, expose the cocktail to blue light for a few moments to create an ethereal glow.\n> \n> \n> **Garnish:**\n> \n> - A sprig of fresh seaweed\n> - A lime twist\n> \n> **Tips:**\n> \n> - For the cucumber infused aquavit, infuse aquavit with sliced cucumbers, seaweed, and sea salt for a few days.\n> \n> \n> - Activated charcoal adds a unique smoky flavor and a touch of filtration. Be sure to dissolve the charcoal powder in water before adding it to the cocktail.\n> \n> \n> - Kelp infusion can be made by steeping kelp in boiling water for a few minutes.\n> \n> \n> - Sea salt brine is simply sea salt dissolved in water."
          },
          "metadata": {},
          "execution_count": 13
        }
      ]
    }
  ]
}